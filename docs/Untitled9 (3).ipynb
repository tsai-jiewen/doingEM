{
  "nbformat": 4,
  "nbformat_minor": 0,
  "metadata": {
    "colab": {
      "name": "Untitled9.ipynb",
      "provenance": []
    },
    "kernelspec": {
      "name": "python3",
      "display_name": "Python 3"
    },
    "language_info": {
      "name": "python"
    }
  },
  "cells": [
    {
      "cell_type": "code",
      "execution_count": null,
      "metadata": {
        "id": "qIS-q08auv5z"
      },
      "outputs": [],
      "source": [
        "%load_ext rpy2.ipython"
      ]
    },
    {
      "cell_type": "code",
      "source": [
        "%%R\n",
        "install.packages('VGAM')"
      ],
      "metadata": {
        "id": "7A2SL0qExE1S"
      },
      "execution_count": null,
      "outputs": []
    },
    {
      "cell_type": "code",
      "source": [
        "%%R\n",
        "install.packages('tidyverse')"
      ],
      "metadata": {
        "id": "34BzIqF9lRON"
      },
      "execution_count": null,
      "outputs": []
    },
    {
      "cell_type": "code",
      "source": [
        "%%R\n",
        "library(VGAM)\n",
        "library(tidyverse)\n",
        "lake <- c('han', 'okl', 'tra', 'geo')\n",
        "size <- c('<=2.3', '>2.3')\n",
        "d_2a <- expand.grid(size=size, lake=lake)\n",
        "fish <- c(23,7,5,13,5,8,16,17)\n",
        "inve <- c(4,0,11,8,11,7,19,1)\n",
        "rept <- c(2,1,1,6,2,6,1,0)\n",
        "bird <- c(2,3,0,1,1,3,2,1)\n",
        "othr <- c(8,5,3,0,5,5,3,3)\n",
        "dat_2a <- cbind(d_2a, fish, inve, rept, bird, othr) %>% as.data.frame()\n",
        "#dat_2a$size <- as.character(dat_2a$size)\n",
        "#dat_2a$lake <- as.character(dat_2a$lake)\n",
        "\n"
      ],
      "metadata": {
        "id": "0Jj5P8YAlAWx"
      },
      "execution_count": null,
      "outputs": []
    },
    {
      "cell_type": "code",
      "source": [
        "%%R\n",
        "mod_2a <- vglm( cbind(fish, inve, rept, bird, othr) ~ size + lake, \n",
        "                family=multinomial, data=dat_2a)\n",
        "summary(mod_2a)"
      ],
      "metadata": {
        "colab": {
          "base_uri": "https://localhost:8080/"
        },
        "id": "1LpJnCXwlivy",
        "outputId": "6a44531e-dda3-4beb-aecf-cf58b5d3fa79"
      },
      "execution_count": null,
      "outputs": [
        {
          "output_type": "stream",
          "name": "stdout",
          "text": [
            "\n",
            "Call:\n",
            "vglm(formula = cbind(fish, inve, rept, bird, othr) ~ size + lake, \n",
            "    family = multinomial, data = dat_2a)\n",
            "\n",
            "Coefficients: \n",
            "              Estimate Std. Error z value Pr(>|z|)    \n",
            "(Intercept):1   0.7465     0.3520   2.121 0.033928 *  \n",
            "(Intercept):2  -1.0026     0.5803  -1.728 0.084023 .  \n",
            "(Intercept):3  -1.6765     0.6799  -2.466 0.013671 *  \n",
            "(Intercept):4  -1.2821     0.5996  -2.138 0.032507 *  \n",
            "size>2.3:1      0.3316     0.4482   0.740 0.459506    \n",
            "size>2.3:2     -1.1267     0.5049  -2.231 0.025655 *  \n",
            "size>2.3:3      0.6828     0.6514   1.048 0.294542    \n",
            "size>2.3:4      0.9622     0.7127   1.350 0.176990    \n",
            "lakeokl:1       0.8205     0.7296   1.125 0.260713    \n",
            "lakeokl:2       3.4161     0.8743   3.907 9.33e-05 ***\n",
            "lakeokl:3       2.0366     0.9764   2.086 0.036984 *  \n",
            "lakeokl:4      -0.5278     1.3019  -0.405 0.685178    \n",
            "laketra:1      -0.6902     0.5597  -1.233 0.217511    \n",
            "laketra:2       2.0902     0.7184   2.910 0.003620 ** \n",
            "laketra:3       1.0023     0.8297   1.208 0.227038    \n",
            "laketra:4      -0.2975     0.8342  -0.357 0.721352    \n",
            "lakegeo:1       0.8262     0.5575   1.482 0.138378    \n",
            "lakegeo:2       2.4846     0.7432   3.343 0.000829 ***\n",
            "lakegeo:3      -0.4166     1.2605  -0.330 0.741027    \n",
            "lakegeo:4       0.1311     0.8920   0.147 0.883168    \n",
            "---\n",
            "Signif. codes:  0 ‘***’ 0.001 ‘**’ 0.01 ‘*’ 0.05 ‘.’ 0.1 ‘ ’ 1\n",
            "\n",
            "Names of linear predictors: log(mu[,1]/mu[,5]), log(mu[,2]/mu[,5]), \n",
            "log(mu[,3]/mu[,5]), log(mu[,4]/mu[,5])\n",
            "\n",
            "Residual deviance: 17.0798 on 12 degrees of freedom\n",
            "\n",
            "Log-likelihood: -47.5138 on 12 degrees of freedom\n",
            "\n",
            "Number of Fisher scoring iterations: 5 \n",
            "\n",
            "No Hauck-Donner effect found in any of the estimates\n",
            "\n",
            "\n",
            "Reference group is level  5  of the response\n"
          ]
        }
      ]
    },
    {
      "cell_type": "code",
      "source": [
        "%%R\n",
        "VGAM::coef(mod_2a, matrix=TRUE) %>% round(3)"
      ],
      "metadata": {
        "colab": {
          "base_uri": "https://localhost:8080/"
        },
        "id": "nH6v4bbylomS",
        "outputId": "a486029b-d345-4a0b-ea0e-057a5fc0530d"
      },
      "execution_count": null,
      "outputs": [
        {
          "output_type": "stream",
          "name": "stdout",
          "text": [
            "            log(mu[,1]/mu[,5]) log(mu[,2]/mu[,5]) log(mu[,3]/mu[,5])\n",
            "(Intercept)              0.747             -1.003             -1.676\n",
            "size>2.3                 0.332             -1.127              0.683\n",
            "lakeokl                  0.821              3.416              2.037\n",
            "laketra                 -0.690              2.090              1.002\n",
            "lakegeo                  0.826              2.485             -0.417\n",
            "            log(mu[,4]/mu[,5])\n",
            "(Intercept)             -1.282\n",
            "size>2.3                 0.962\n",
            "lakeokl                 -0.528\n",
            "laketra                 -0.298\n",
            "lakegeo                  0.131\n"
          ]
        }
      ]
    },
    {
      "cell_type": "code",
      "source": [
        "%%R\n",
        "exp(0.747+0.332+0.821)/(1 + exp(0.747+0.332+0.821) + exp(-1.003-1.127+3.416) + exp(-1.676+0.683+2.037) + exp(-1.282+0.962-0.528))"
      ],
      "metadata": {
        "colab": {
          "base_uri": "https://localhost:8080/"
        },
        "id": "gjIdw9kywMpF",
        "outputId": "4f591cac-1779-4e39-8c16-252e2226dfad"
      },
      "execution_count": null,
      "outputs": [
        {
          "output_type": "stream",
          "name": "stdout",
          "text": [
            "[1] 0.4587862\n"
          ]
        }
      ]
    },
    {
      "cell_type": "code",
      "source": [
        "%%R\n",
        "exp(0.747+0.821)/(1 + exp(0.747+0.821) + exp(-1.003+3.416) + exp(-1.676+2.037) + exp(-1.282-0.528))"
      ],
      "metadata": {
        "colab": {
          "base_uri": "https://localhost:8080/"
        },
        "id": "lOBY6LwT2Qb1",
        "outputId": "ea902e08-a02b-418f-d12c-b7f810199421"
      },
      "execution_count": null,
      "outputs": [
        {
          "output_type": "stream",
          "name": "stdout",
          "text": [
            "[1] 0.2584214\n"
          ]
        }
      ]
    },
    {
      "cell_type": "code",
      "source": [
        "%%R\n",
        "exp(0.747)/(1 + exp(0.747) + exp(-1.003) + exp(-1.676) + exp(-1.282))"
      ],
      "metadata": {
        "colab": {
          "base_uri": "https://localhost:8080/"
        },
        "id": "Xh1j17fX0ibY",
        "outputId": "c9d78be0-bd89-477b-d8aa-84f436f48139"
      },
      "execution_count": null,
      "outputs": [
        {
          "output_type": "stream",
          "name": "stdout",
          "text": [
            "[1] 0.5354231\n"
          ]
        }
      ]
    },
    {
      "cell_type": "markdown",
      "source": [
        ""
      ],
      "metadata": {
        "id": "TKQKd6RhyMli"
      }
    },
    {
      "cell_type": "code",
      "source": [
        "%%R\n",
        "exp(-1.282-0.962)"
      ],
      "metadata": {
        "colab": {
          "base_uri": "https://localhost:8080/"
        },
        "id": "eY4ZdcbYyM8s",
        "outputId": "d562381e-f249-482c-9fd1-461832e69ddd"
      },
      "execution_count": null,
      "outputs": [
        {
          "output_type": "stream",
          "name": "stdout",
          "text": [
            "[1] 0.1060335\n"
          ]
        }
      ]
    },
    {
      "cell_type": "code",
      "source": [
        "import numpy as np\n",
        "import matplotlib.pyplot as plt\n",
        "\n",
        "x = np.linspace(0, 10, 1000)\n",
        "plt.plot(x, np.sin(x));\n",
        "\n",
        "plt.show()"
      ],
      "metadata": {
        "colab": {
          "base_uri": "https://localhost:8080/",
          "height": 265
        },
        "id": "mfg8FB9n-U9u",
        "outputId": "bc94bc3e-dfd5-4673-8a09-bfb559524359"
      },
      "execution_count": null,
      "outputs": [
        {
          "output_type": "display_data",
          "data": {
            "image/png": "[encoded data removed]",
            "text/plain": [
              "<Figure size 432x288 with 1 Axes>"
            ]
          },
          "metadata": {
            "needs_background": "light"
          }
        }
      ]
    },
    {
      "cell_type": "code",
      "source": [
        "%%R\n",
        "data.frame(dat_2a$size, dat_2a$lake, round(fitted(mod_2a),3)) "
      ],
      "metadata": {
        "colab": {
          "base_uri": "https://localhost:8080/"
        },
        "id": "smb3vZODwMse",
        "outputId": "4f4bce05-6b87-4f7f-b243-c9925c13fce8"
      },
      "execution_count": null,
      "outputs": [
        {
          "output_type": "stream",
          "name": "stdout",
          "text": [
            "  dat_2a.size dat_2a.lake  fish  inve  rept  bird  othr\n",
            "1       <=2.3         han 0.535 0.093 0.047 0.070 0.254\n",
            "2        >2.3         han 0.570 0.023 0.072 0.141 0.194\n",
            "3       <=2.3         okl 0.258 0.602 0.077 0.009 0.054\n",
            "4        >2.3         okl 0.458 0.249 0.195 0.029 0.069\n",
            "5       <=2.3         tra 0.184 0.517 0.089 0.036 0.174\n",
            "6        >2.3         tra 0.296 0.193 0.202 0.108 0.201\n",
            "7       <=2.3         geo 0.452 0.413 0.012 0.030 0.094\n",
            "8        >2.3         geo 0.657 0.140 0.024 0.081 0.098\n"
          ]
        }
      ]
    },
    {
      "cell_type": "code",
      "source": [
        ""
      ],
      "metadata": {
        "id": "SSTq0ojCwMx-"
      },
      "execution_count": null,
      "outputs": []
    },
    {
      "cell_type": "code",
      "source": [
        "!pip3 install http://download.pytorch.org/whl/cu80/torch-0.3.0.post4-cp36-cp36m-linux_x86_64.whl\n",
        "!pip3 install torchvision"
      ],
      "metadata": {
        "colab": {
          "base_uri": "https://localhost:8080/"
        },
        "id": "jmsEp3CM-8ab",
        "outputId": "53122d0a-ec6b-4d06-bb40-2dbd8e15912d"
      },
      "execution_count": null,
      "outputs": [
        {
          "output_type": "stream",
          "name": "stdout",
          "text": [
            "\u001b[31mERROR: torch-0.3.0.post4-cp36-cp36m-linux_x86_64.whl is not a supported wheel on this platform.\u001b[0m\n",
            "Requirement already satisfied: torchvision in /usr/local/lib/python3.7/dist-packages (0.11.1+cu111)\n",
            "Requirement already satisfied: pillow!=8.3.0,>=5.3.0 in /usr/local/lib/python3.7/dist-packages (from torchvision) (7.1.2)\n",
            "Requirement already satisfied: numpy in /usr/local/lib/python3.7/dist-packages (from torchvision) (1.19.5)\n",
            "Requirement already satisfied: torch==1.10.0 in /usr/local/lib/python3.7/dist-packages (from torchvision) (1.10.0+cu111)\n",
            "Requirement already satisfied: typing-extensions in /usr/local/lib/python3.7/dist-packages (from torch==1.10.0->torchvision) (3.10.0.2)\n"
          ]
        }
      ]
    },
    {
      "cell_type": "code",
      "source": [
        "from sympy import Integral, sqrt, symbols, init_printing\n",
        "\n",
        "init_printing()\n",
        "\n",
        "x = symbols('x')\n",
        "\n",
        "Integral(sqrt(1 / x), x)"
      ],
      "metadata": {
        "colab": {
          "base_uri": "https://localhost:8080/",
          "height": 60
        },
        "id": "t4ufdGss-dIk",
        "outputId": "b902657d-9a3d-4888-91a0-c9e2547a6e3d"
      },
      "execution_count": null,
      "outputs": [
        {
          "output_type": "execute_result",
          "data": {
            "image/png": "[encoded data removed]",
            "text/latex": "$\\displaystyle \\int \\sqrt{\\frac{1}{x}}\\, dx$",
            "text/plain": [
              "⌠           \n",
              "⎮     ___   \n",
              "⎮    ╱ 1    \n",
              "⎮   ╱  ─  dx\n",
              "⎮ ╲╱   x    \n",
              "⌡           "
            ]
          },
          "metadata": {},
          "execution_count": 28
        }
      ]
    },
    {
      "cell_type": "code",
      "source": [
        "%%R\n",
        "library(tidyverse)\n",
        "library(psych)\n",
        "dat_loan <- read.table('loan.txt', header=T)"
      ],
      "metadata": {
        "id": "Gh-MDDAnu1Em"
      },
      "execution_count": null,
      "outputs": []
    },
    {
      "cell_type": "code",
      "source": [
        "%%R\n",
        "des <- psych::describe(dat_loan)"
      ],
      "metadata": {
        "id": "0Eu7HDTfw1fa"
      },
      "execution_count": null,
      "outputs": []
    },
    {
      "cell_type": "markdown",
      "source": [
        ""
      ],
      "metadata": {
        "id": "wh2g4MVEyZNz"
      }
    },
    {
      "cell_type": "code",
      "source": [
        "%%R\n",
        "c(1:10) |> sum()"
      ],
      "metadata": {
        "colab": {
          "base_uri": "https://localhost:8080/"
        },
        "id": "jIXboV8JvQHe",
        "outputId": "ba0974f5-89dd-4676-80e9-11b55ec613bf"
      },
      "execution_count": null,
      "outputs": [
        {
          "output_type": "stream",
          "name": "stdout",
          "text": [
            "[1] 55\n"
          ]
        }
      ]
    },
    {
      "cell_type": "code",
      "source": [
        "%%R\n",
        "sessionInfo()"
      ],
      "metadata": {
        "colab": {
          "base_uri": "https://localhost:8080/"
        },
        "id": "WD29ywyZvfO2",
        "outputId": "6df37430-89ec-4437-f02e-a5aa3e32a337"
      },
      "execution_count": null,
      "outputs": [
        {
          "output_type": "stream",
          "name": "stdout",
          "text": [
            "R version 4.1.2 (2021-11-01)\n",
            "Platform: x86_64-pc-linux-gnu (64-bit)\n",
            "Running under: Ubuntu 18.04.5 LTS\n",
            "\n",
            "Matrix products: default\n",
            "BLAS:   /usr/lib/x86_64-linux-gnu/openblas/libblas.so.3\n",
            "LAPACK: /usr/lib/x86_64-linux-gnu/openblas/liblapack.so.3\n",
            "\n",
            "locale:\n",
            " [1] LC_CTYPE=en_US.UTF-8       LC_NUMERIC=C              \n",
            " [3] LC_TIME=en_US.UTF-8        LC_COLLATE=en_US.UTF-8    \n",
            " [5] LC_MONETARY=en_US.UTF-8    LC_MESSAGES=en_US.UTF-8   \n",
            " [7] LC_PAPER=en_US.UTF-8       LC_NAME=C                 \n",
            " [9] LC_ADDRESS=C               LC_TELEPHONE=C            \n",
            "[11] LC_MEASUREMENT=en_US.UTF-8 LC_IDENTIFICATION=C       \n",
            "\n",
            "attached base packages:\n",
            "[1] tools     stats     graphics  grDevices utils     datasets  methods  \n",
            "[8] base     \n",
            "\n",
            "other attached packages:\n",
            "[1] forcats_0.5.1   stringr_1.4.0   dplyr_1.0.7     purrr_0.3.4    \n",
            "[5] readr_2.1.1     tidyr_1.1.4     tibble_3.1.6    ggplot2_3.3.5  \n",
            "[9] tidyverse_1.3.1\n",
            "\n",
            "loaded via a namespace (and not attached):\n",
            " [1] Rcpp_1.0.7       cellranger_1.1.0 pillar_1.6.4     compiler_4.1.2  \n",
            " [5] dbplyr_2.1.1     jsonlite_1.7.2   lubridate_1.8.0  lifecycle_1.0.1 \n",
            " [9] gtable_0.3.0     pkgconfig_2.0.3  rlang_0.4.12     reprex_2.0.1    \n",
            "[13] cli_3.1.0        rstudioapi_0.13  DBI_1.1.2        haven_2.4.3     \n",
            "[17] xml2_1.3.3       withr_2.4.3      httr_1.4.2       fs_1.5.2        \n",
            "[21] generics_0.1.1   vctrs_0.3.8      hms_1.1.1        grid_4.1.2      \n",
            "[25] tidyselect_1.1.1 glue_1.6.0       R6_2.5.1         fansi_0.5.0     \n",
            "[29] readxl_1.3.1     tzdb_0.2.0       modelr_0.1.8     magrittr_2.0.1  \n",
            "[33] backports_1.4.1  scales_1.1.1     ellipsis_0.3.2   rvest_1.0.2     \n",
            "[37] assertthat_0.2.1 colorspace_2.0-2 utf8_1.2.2       stringi_1.7.6   \n",
            "[41] munsell_0.5.0    broom_0.7.10     crayon_1.4.2    \n"
          ]
        }
      ]
    },
    {
      "cell_type": "code",
      "source": [
        "%%shell\n",
        "jupyter nbconvert --to html /content/Untitled9.ipynb"
      ],
      "metadata": {
        "id": "exfkZxsdU5ff",
        "outputId": "6ca3a661-584e-410a-ac7d-c44816b0a6a7",
        "colab": {
          "base_uri": "https://localhost:8080/"
        }
      },
      "execution_count": null,
      "outputs": [
        {
          "output_type": "stream",
          "name": "stdout",
          "text": [
            "[NbConvertApp] Converting notebook /content/Untitled9.ipynb to html\n",
            "[NbConvertApp] Writing 302251 bytes to /content/Untitled9.html\n"
          ]
        },
        {
          "output_type": "execute_result",
          "data": {
            "text/plain": [
              ""
            ]
          },
          "metadata": {},
          "execution_count": 3
        }
      ]
    },
    {
      "cell_type": "code",
      "source": [
        "%%R\n",
        "## 3.a. ----\n",
        "ther <- c('seq', 'alt')\n",
        "gndr <- c('m', 'f')\n",
        "d_3a <- expand.grid(gndr=gndr, ther=ther)\n",
        "ProDis <- c(28,4,41,12)\n",
        "NoChng <- c(45,12,44,7)\n",
        "ParRem <- c(29,5,20,3)\n",
        "ComRem <- c(26,2,20,1)\n",
        "dat_3a <- cbind(d_3a, ProDis, NoChng, ParRem, ComRem ) %>% as.data.frame()\n",
        "\n",
        "mod_3a <- vglm(cbind(ProDis, NoChng, ParRem, ComRem) ~ ther + gndr,\n",
        "               family=cumulative(parallel=TRUE), data=dat_3a)\n",
        "summary(mod_3a)"
      ],
      "metadata": {
        "colab": {
          "base_uri": "https://localhost:8080/"
        },
        "id": "aeOEupFZB6cb",
        "outputId": "615479da-c1ca-4219-b850-c9d4b577385c"
      },
      "execution_count": null,
      "outputs": [
        {
          "output_type": "stream",
          "name": "stdout",
          "text": [
            "\n",
            "Call:\n",
            "vglm(formula = cbind(ProDis, NoChng, ParRem, ComRem) ~ ther + \n",
            "    gndr, family = cumulative(parallel = TRUE), data = dat_3a)\n",
            "\n",
            "Coefficients: \n",
            "              Estimate Std. Error z value Pr(>|z|)    \n",
            "(Intercept):1  -1.3180     0.1801  -7.319  2.5e-13 ***\n",
            "(Intercept):2   0.2492     0.1621   1.538  0.12412    \n",
            "(Intercept):3   1.3001     0.1852   7.021  2.2e-12 ***\n",
            "theralt         0.5807     0.2119   2.741  0.00613 ** \n",
            "gndrf           0.5414     0.2953   1.834  0.06671 .  \n",
            "---\n",
            "Signif. codes:  0 ‘***’ 0.001 ‘**’ 0.01 ‘*’ 0.05 ‘.’ 0.1 ‘ ’ 1\n",
            "\n",
            "Names of linear predictors: logitlink(P[Y<=1]), logitlink(P[Y<=2]), \n",
            "logitlink(P[Y<=3])\n",
            "\n",
            "Residual deviance: 5.5677 on 7 degrees of freedom\n",
            "\n",
            "Log-likelihood: -25.5417 on 7 degrees of freedom\n",
            "\n",
            "Number of Fisher scoring iterations: 5 \n",
            "\n",
            "No Hauck-Donner effect found in any of the estimates\n",
            "\n",
            "\n",
            "Exponentiated coefficients:\n",
            " theralt    gndrf \n",
            "1.787262 1.718403 \n"
          ]
        }
      ]
    },
    {
      "cell_type": "code",
      "source": [
        "%%R\n",
        "data.frame(ther=dat_3a$ther, gndr=dat_3a$gndr, round(fitted(mod_3a),3) )"
      ],
      "metadata": {
        "colab": {
          "base_uri": "https://localhost:8080/"
        },
        "id": "pelo3nVCB97t",
        "outputId": "1e6bd5b8-41b4-4cb6-e066-94ea8a7f4c4a"
      },
      "execution_count": null,
      "outputs": [
        {
          "output_type": "stream",
          "name": "stdout",
          "text": [
            "  ther gndr ProDis NoChng ParRem ComRem\n",
            "1  seq    m  0.211  0.351  0.224  0.214\n",
            "2  seq    f  0.315  0.373  0.175  0.137\n",
            "3  alt    m  0.324  0.373  0.171  0.132\n",
            "4  alt    f  0.451  0.346  0.121  0.082\n"
          ]
        }
      ]
    },
    {
      "cell_type": "code",
      "source": [
        "%%R\n",
        "Polviews <- read.table(\"http://www.stat.ufl.edu/~aa/cat/data/Polviews.dat\",header=TRUE)\n",
        "Polviews\n",
        "fit <- vglm(cbind(y1,y2,y3,y4,y5) ~ party + gender,family=cumulative(parallel=TRUE), data=Polviews)\n",
        "summary(fit)"
      ],
      "metadata": {
        "colab": {
          "base_uri": "https://localhost:8080/"
        },
        "id": "w4gobq9PIJPp",
        "outputId": "fab9b6eb-28fe-4381-8704-8676f6859078"
      },
      "execution_count": null,
      "outputs": [
        {
          "output_type": "stream",
          "name": "stdout",
          "text": [
            "\n",
            "Call:\n",
            "vglm(formula = cbind(y1, y2, y3, y4, y5) ~ party + gender, family = cumulative(parallel = TRUE), \n",
            "    data = Polviews)\n",
            "\n",
            "Coefficients: \n",
            "              Estimate Std. Error z value Pr(>|z|)    \n",
            "(Intercept):1 -2.12233    0.16875 -12.577   <2e-16 ***\n",
            "(Intercept):2  0.16892    0.11481   1.471    0.141    \n",
            "(Intercept):3  1.85716    0.15103  12.297   <2e-16 ***\n",
            "(Intercept):4  4.65005    0.23496  19.791   <2e-16 ***\n",
            "partyrepub    -3.63366    0.21785 -16.680   <2e-16 ***\n",
            "gendermale     0.04731    0.14955   0.316    0.752    \n",
            "---\n",
            "Signif. codes:  0 ‘***’ 0.001 ‘**’ 0.01 ‘*’ 0.05 ‘.’ 0.1 ‘ ’ 1\n",
            "\n",
            "Names of linear predictors: logitlink(P[Y<=1]), logitlink(P[Y<=2]), \n",
            "logitlink(P[Y<=3]), logitlink(P[Y<=4])\n",
            "\n",
            "Residual deviance: 9.8072 on 10 degrees of freedom\n",
            "\n",
            "Log-likelihood: -35.2032 on 10 degrees of freedom\n",
            "\n",
            "Number of Fisher scoring iterations: 4 \n",
            "\n",
            "No Hauck-Donner effect found in any of the estimates\n",
            "\n",
            "\n",
            "Exponentiated coefficients:\n",
            "partyrepub gendermale \n",
            "0.02641936 1.04844945 \n"
          ]
        }
      ]
    },
    {
      "cell_type": "code",
      "source": [
        "%%R\n",
        "mod_3b <- vglm(cbind(ProDis, NoChng, ParRem, ComRem) ~ ther*gndr,\n",
        "               family=cumulative(parallel=TRUE), data=dat_3a)\n",
        "\n",
        "summary(mod_3b)"
      ],
      "metadata": {
        "colab": {
          "base_uri": "https://localhost:8080/"
        },
        "id": "kAQHdrYCOHtF",
        "outputId": "447239b8-a745-498a-f22c-bad479ca58bb"
      },
      "execution_count": null,
      "outputs": [
        {
          "output_type": "stream",
          "name": "stdout",
          "text": [
            "\n",
            "Call:\n",
            "vglm(formula = cbind(ProDis, NoChng, ParRem, ComRem) ~ ther * \n",
            "    gndr, family = cumulative(parallel = TRUE), data = dat_3a)\n",
            "\n",
            "Coefficients: \n",
            "              Estimate Std. Error z value Pr(>|z|)    \n",
            "(Intercept):1  -1.2757     0.1843  -6.920 4.52e-12 ***\n",
            "(Intercept):2   0.2957     0.1681   1.760   0.0785 .  \n",
            "(Intercept):3   1.3452     0.1909   7.045 1.85e-12 ***\n",
            "theralt         0.4881     0.2288   2.133   0.0329 *  \n",
            "gndrf           0.2742     0.4094   0.670   0.5030    \n",
            "theralt:gndrf   0.5904     0.5935   0.995   0.3199    \n",
            "---\n",
            "Signif. codes:  0 ‘***’ 0.001 ‘**’ 0.01 ‘*’ 0.05 ‘.’ 0.1 ‘ ’ 1\n",
            "\n",
            "Names of linear predictors: logitlink(P[Y<=1]), logitlink(P[Y<=2]), \n",
            "logitlink(P[Y<=3])\n",
            "\n",
            "Residual deviance: 4.5209 on 6 degrees of freedom\n",
            "\n",
            "Log-likelihood: -25.0183 on 6 degrees of freedom\n",
            "\n",
            "Number of Fisher scoring iterations: 5 \n",
            "\n",
            "No Hauck-Donner effect found in any of the estimates\n",
            "\n",
            "\n",
            "Exponentiated coefficients:\n",
            "      theralt         gndrf theralt:gndrf \n",
            "     1.629170      1.315475      1.804727 \n"
          ]
        }
      ]
    },
    {
      "cell_type": "code",
      "source": [
        ""
      ],
      "metadata": {
        "id": "hlE6y4kiTlqE"
      },
      "execution_count": null,
      "outputs": []
    }
  ]
}